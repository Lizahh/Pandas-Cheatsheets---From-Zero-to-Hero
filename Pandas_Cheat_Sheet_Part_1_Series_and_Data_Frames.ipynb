{
  "nbformat": 4,
  "nbformat_minor": 0,
  "metadata": {
    "colab": {
      "provenance": [],
      "collapsed_sections": []
    },
    "kernelspec": {
      "name": "python3",
      "display_name": "Python 3"
    },
    "language_info": {
      "name": "python"
    }
  },
  "cells": [
    {
      "cell_type": "markdown",
      "source": [
        "**What is Pandas?**\n",
        "\n",
        "Pandas is an open source library in python for **data analysis**.\n",
        "\n",
        "**When/why to use Pandas?**\n",
        "\n",
        "1. It has built in tools for reading and writing data between many formats. It not only read csv or excel files but it can also connect to a larger scale database and write data to that database. It can also read HTML tables directly off a website.\n",
        "2. It can intelligently grab data based on things like indexing, logic, conditional filtering and more.\n",
        "3. It is only limited that how much RAM your computer has."
      ],
      "metadata": {
        "id": "9AeOxQtCWmBC"
      }
    },
    {
      "cell_type": "markdown",
      "source": [
        "## **1. Series:**\n",
        "\n",
        "A series is a data structure / data type in Pandas that holds an array of information along with **named index.**\n",
        "\n",
        "> The named index differentiates Pandas from the simple Numpy array.\n",
        "\n",
        "*Formal definition:* 1D ndimensional array with axis labels."
      ],
      "metadata": {
        "id": "0KKJkdu4Xc79"
      }
    },
    {
      "cell_type": "markdown",
      "source": [
        "### **i. Generating Pandas Series object:**"
      ],
      "metadata": {
        "id": "C7X8dcFPdR-N"
      }
    },
    {
      "cell_type": "code",
      "execution_count": 2,
      "metadata": {
        "id": "GkJTDcFYWhzS"
      },
      "outputs": [],
      "source": [
        "import pandas as pd\n",
        "\n",
        "mydata = ['USA', 'CANADA', 'MEXICO']    # Note that the data and index is given in the form of list\n",
        "myindex = [1776, 1778, 1779]\n",
        "myseries = pd.Series(data = mydata, index = myindex)   # Note that Series has capital S"
      ]
    },
    {
      "cell_type": "code",
      "source": [
        "type(myseries)"
      ],
      "metadata": {
        "colab": {
          "base_uri": "https://localhost:8080/"
        },
        "id": "cCXMctXnfRgo",
        "outputId": "785aab15-a4ce-4ddf-b78a-0b9de5641340"
      },
      "execution_count": 12,
      "outputs": [
        {
          "output_type": "execute_result",
          "data": {
            "text/plain": [
              "pandas.core.series.Series"
            ]
          },
          "metadata": {},
          "execution_count": 12
        }
      ]
    },
    {
      "cell_type": "code",
      "source": [
        "myseries"
      ],
      "metadata": {
        "colab": {
          "base_uri": "https://localhost:8080/"
        },
        "id": "bwSSs209gvzs",
        "outputId": "cfd9eb4a-6c3e-42d2-c86c-b5ef711080f4"
      },
      "execution_count": 14,
      "outputs": [
        {
          "output_type": "execute_result",
          "data": {
            "text/plain": [
              "1776       USA\n",
              "1778    CANADA\n",
              "1779    MEXICO\n",
              "dtype: object"
            ]
          },
          "metadata": {},
          "execution_count": 14
        }
      ]
    },
    {
      "cell_type": "code",
      "source": [
        "myseries[1776]"
      ],
      "metadata": {
        "colab": {
          "base_uri": "https://localhost:8080/",
          "height": 35
        },
        "id": "O-tNXYntgNHa",
        "outputId": "2e40cba8-5e1e-4189-a886-32a7a8469b90"
      },
      "execution_count": 15,
      "outputs": [
        {
          "output_type": "execute_result",
          "data": {
            "text/plain": [
              "'USA'"
            ],
            "application/vnd.google.colaboratory.intrinsic+json": {
              "type": "string"
            }
          },
          "metadata": {},
          "execution_count": 15
        }
      ]
    },
    {
      "cell_type": "code",
      "source": [
        "myindex = ['USA', 'CANADA', 'MEXICO']    # Note that the data and index is given in the form of list\n",
        "mydata = [1776, 1778, 1779]\n",
        "myseries = pd.Series(data = mydata, index = myindex)   # Note that Series has capital S\n",
        "myseries['USA']"
      ],
      "metadata": {
        "colab": {
          "base_uri": "https://localhost:8080/"
        },
        "id": "4AO1fXn7hEih",
        "outputId": "5810c2e9-86b3-47f3-ef99-284957321933"
      },
      "execution_count": 22,
      "outputs": [
        {
          "output_type": "execute_result",
          "data": {
            "text/plain": [
              "1776"
            ]
          },
          "metadata": {},
          "execution_count": 22
        }
      ]
    },
    {
      "cell_type": "markdown",
      "source": [
        "Named-index is of 2 types:\n",
        "1. String\n",
        "2. Integer\n",
        "\n",
        "\n",
        "*   If we have Named-index of type Integer, then we can access the data with that Integer-typed indices and with the normal integers as well e.g. if we set  \n",
        "\n",
        "      **index** = [1900, 2000, 2100]\n",
        "\n",
        "      **data** = ['ABC', 'FGH', 'XYZ']\n",
        "\n",
        "      **newseries** = pd.Series(data, index)\n",
        "\n",
        "then we can access the data 'ABC' in two ways: newseries[0] (means with normal index like lists/np arrays) and newseries[1900] (means with named index).\n",
        "\n",
        "*   If we have Named-index of type String, then we can only access the data with that string-typed indices e.g. in above example, we can only access it as myseries['USA']. But if you want to access it with normal integer also, then you need to create the series from the dictionary. See in the following example:\n",
        "\n",
        "\n"
      ],
      "metadata": {
        "id": "dZtai5thkAdN"
      }
    },
    {
      "cell_type": "code",
      "source": [
        "ages = {'Same': 5, 'Frank': 2, 'Spike': 6}\n",
        "new_series = pd.Series(ages)\n",
        "print(new_series)"
      ],
      "metadata": {
        "colab": {
          "base_uri": "https://localhost:8080/"
        },
        "id": "SO7eUaqZhCJk",
        "outputId": "86f07126-0209-4bdf-8e5d-65e8a357122f"
      },
      "execution_count": 25,
      "outputs": [
        {
          "output_type": "stream",
          "name": "stdout",
          "text": [
            "Same     5\n",
            "Frank    2\n",
            "Spike    6\n",
            "dtype: int64\n"
          ]
        }
      ]
    },
    {
      "cell_type": "code",
      "source": [
        "new_series[0]"
      ],
      "metadata": {
        "colab": {
          "base_uri": "https://localhost:8080/"
        },
        "id": "a69hjdXto473",
        "outputId": "230700e3-cd17-4ad8-9856-99e511ec91cb"
      },
      "execution_count": 26,
      "outputs": [
        {
          "output_type": "execute_result",
          "data": {
            "text/plain": [
              "5"
            ]
          },
          "metadata": {},
          "execution_count": 26
        }
      ]
    },
    {
      "cell_type": "code",
      "source": [
        "new_series['Same']"
      ],
      "metadata": {
        "colab": {
          "base_uri": "https://localhost:8080/"
        },
        "id": "Gr0HUJfgpDuH",
        "outputId": "47e7510c-8080-43e5-ffa2-d6f74fad49c9"
      },
      "execution_count": 27,
      "outputs": [
        {
          "output_type": "execute_result",
          "data": {
            "text/plain": [
              "5"
            ]
          },
          "metadata": {},
          "execution_count": 27
        }
      ]
    },
    {
      "cell_type": "code",
      "source": [
        "new_series.keys()"
      ],
      "metadata": {
        "colab": {
          "base_uri": "https://localhost:8080/"
        },
        "id": "sDcjtsK3pWe2",
        "outputId": "c064ffd9-e6ee-4e50-ee71-58d4c2ee809c"
      },
      "execution_count": 28,
      "outputs": [
        {
          "output_type": "execute_result",
          "data": {
            "text/plain": [
              "Index(['Same', 'Frank', 'Spike'], dtype='object')"
            ]
          },
          "metadata": {},
          "execution_count": 28
        }
      ]
    },
    {
      "cell_type": "code",
      "source": [
        "# TO GET ALL THE INDICES IN THE SERIES\n",
        "\n",
        "new_series.keys()"
      ],
      "metadata": {
        "colab": {
          "base_uri": "https://localhost:8080/"
        },
        "id": "rRgpX4jZpbV6",
        "outputId": "a92be7b3-526a-4d81-fb46-4180037314ad"
      },
      "execution_count": 30,
      "outputs": [
        {
          "output_type": "execute_result",
          "data": {
            "text/plain": [
              "Index(['Same', 'Frank', 'Spike'], dtype='object')"
            ]
          },
          "metadata": {},
          "execution_count": 30
        }
      ]
    },
    {
      "cell_type": "code",
      "source": [
        "# As pandas is built on Numpy, as we can also apply broadcasting on Pandas Series\n",
        "\n",
        "new_series*2"
      ],
      "metadata": {
        "colab": {
          "base_uri": "https://localhost:8080/"
        },
        "id": "ymI-AVJbpk0R",
        "outputId": "432413f2-b09d-4e25-bd11-9d7c5f733f2a"
      },
      "execution_count": 31,
      "outputs": [
        {
          "output_type": "execute_result",
          "data": {
            "text/plain": [
              "Same     10\n",
              "Frank     4\n",
              "Spike    12\n",
              "dtype: int64"
            ]
          },
          "metadata": {},
          "execution_count": 31
        }
      ]
    },
    {
      "cell_type": "markdown",
      "source": [
        "## **ii. Adding two series with some different values**"
      ],
      "metadata": {
        "id": "ARS_a-_8p10a"
      }
    },
    {
      "cell_type": "code",
      "source": [
        "import numpy as np\n",
        "series1_feed = {'Same': 5, 'Frank': 2, 'Spike': 6}\n",
        "series2_feed = {'John': 4, 'Frank': 10, 'Ali': 3}\n",
        "\n",
        "series1 = pd.Series(series1_feed, dtype = np.float64) \n",
        "series2 = pd.Series(series2_feed, dtype = float) \n",
        "print(series1)\n",
        "print(series2)"
      ],
      "metadata": {
        "colab": {
          "base_uri": "https://localhost:8080/"
        },
        "id": "YFyTFYMgpv7y",
        "outputId": "dd5e520f-166f-427a-e759-e28aea034d1e"
      },
      "execution_count": 13,
      "outputs": [
        {
          "output_type": "stream",
          "name": "stdout",
          "text": [
            "Same     5.0\n",
            "Frank    2.0\n",
            "Spike    6.0\n",
            "dtype: float64\n",
            "John      4.0\n",
            "Frank    10.0\n",
            "Ali       3.0\n",
            "dtype: float64\n"
          ]
        }
      ]
    },
    {
      "cell_type": "code",
      "source": [
        "series1 + series2"
      ],
      "metadata": {
        "colab": {
          "base_uri": "https://localhost:8080/"
        },
        "id": "XrNzwrsqqUv0",
        "outputId": "797a49b5-e673-4ab1-8e21-cd4ef3d527f7"
      },
      "execution_count": 14,
      "outputs": [
        {
          "output_type": "execute_result",
          "data": {
            "text/plain": [
              "Ali       NaN\n",
              "Frank    12.0\n",
              "John      NaN\n",
              "Same      NaN\n",
              "Spike     NaN\n",
              "dtype: float64"
            ]
          },
          "metadata": {},
          "execution_count": 14
        }
      ]
    },
    {
      "cell_type": "code",
      "source": [
        "# to handle Nan\n",
        "\n",
        "myser = series1.add(series2, fill_value = 0)\n",
        "myser"
      ],
      "metadata": {
        "colab": {
          "base_uri": "https://localhost:8080/"
        },
        "id": "kU5OOEkZqcu0",
        "outputId": "f7d622c3-6852-43fa-b75c-4a4ab3d45818"
      },
      "execution_count": 6,
      "outputs": [
        {
          "output_type": "execute_result",
          "data": {
            "text/plain": [
              "Ali       3.0\n",
              "Frank    12.0\n",
              "John      4.0\n",
              "Same      5.0\n",
              "Spike     6.0\n",
              "dtype: float64"
            ]
          },
          "metadata": {},
          "execution_count": 6
        }
      ]
    },
    {
      "cell_type": "markdown",
      "source": [
        "We can change the data type of a Series at two points:\n",
        "\n",
        "1. While making the Series using **dtype =**: for example\n",
        "\n",
        "*   series1 = pd.Series(series1_feed, **dtype = np.float64**)  (use np. if you want to use float64 or int64)\n",
        "*   series2 = pd.Series(series2_feed, **dtype = float**) (no need to use np if you want to use float or int simple)\n",
        "\n",
        "2. After making the Series **seriesname.astype(typename) =**': for example\n",
        "\n",
        "*   myser = myser.astype('int')  \n",
        "\n",
        "\n"
      ],
      "metadata": {
        "id": "Jx508bYAGE47"
      }
    },
    {
      "cell_type": "code",
      "source": [
        "# to change data type  of a series: w\n",
        "myser = myser.astype('int') \n",
        "myser"
      ],
      "metadata": {
        "colab": {
          "base_uri": "https://localhost:8080/"
        },
        "id": "Zp_I_estqomc",
        "outputId": "64ac24c9-cc44-49c9-d49f-981125c5f9e8"
      },
      "execution_count": 15,
      "outputs": [
        {
          "output_type": "execute_result",
          "data": {
            "text/plain": [
              "Ali       3\n",
              "Frank    12\n",
              "John      4\n",
              "Same      5\n",
              "Spike     6\n",
              "dtype: int64"
            ]
          },
          "metadata": {},
          "execution_count": 15
        }
      ]
    },
    {
      "cell_type": "markdown",
      "source": [
        "## **2. Dataframe:**\n",
        "\n",
        "A Dataframe is a table of columns and rows in Pandas that we can easily restructure and filter.\n",
        "\n",
        "Formal Definition: **A group of pandas Series that share the same index.**\n",
        "\n",
        "> Each field of a dataframe is called a series (not column)"
      ],
      "metadata": {
        "id": "RrLURbdlH0ku"
      }
    },
    {
      "cell_type": "code",
      "source": [
        "import pandas as pd\n",
        "import numpy as np\n",
        "\n",
        "mydata = np.random.randint(0,101,(4,3))\n",
        "mydata"
      ],
      "metadata": {
        "colab": {
          "base_uri": "https://localhost:8080/"
        },
        "id": "srbTbhycq6zB",
        "outputId": "5c229a48-4bc0-4b79-db48-d2516cc5974c"
      },
      "execution_count": 18,
      "outputs": [
        {
          "output_type": "execute_result",
          "data": {
            "text/plain": [
              "array([[88, 90,  7],\n",
              "       [88, 65, 26],\n",
              "       [81, 34,  5],\n",
              "       [98,  0, 39]])"
            ]
          },
          "metadata": {},
          "execution_count": 18
        }
      ]
    },
    {
      "cell_type": "code",
      "source": [
        "myindex = ['USA', 'CANADA', 'UK', 'CHINA']\n",
        "mydataframe = pd.DataFrame(data = mydata, index = myindex)\n",
        "mydataframe\n",
        "\n"
      ],
      "metadata": {
        "colab": {
          "base_uri": "https://localhost:8080/",
          "height": 175
        },
        "id": "pyfj3yQWIaZr",
        "outputId": "77f61e90-bab0-467c-8a86-b9dfae128bb0"
      },
      "execution_count": 25,
      "outputs": [
        {
          "output_type": "execute_result",
          "data": {
            "text/plain": [
              "         0   1   2\n",
              "USA     88  90   7\n",
              "CANADA  88  65  26\n",
              "UK      81  34   5\n",
              "CHINA   98   0  39"
            ],
            "text/html": [
              "\n",
              "  <div id=\"df-433e9832-4105-4153-b047-6b6deba6ce85\">\n",
              "    <div class=\"colab-df-container\">\n",
              "      <div>\n",
              "<style scoped>\n",
              "    .dataframe tbody tr th:only-of-type {\n",
              "        vertical-align: middle;\n",
              "    }\n",
              "\n",
              "    .dataframe tbody tr th {\n",
              "        vertical-align: top;\n",
              "    }\n",
              "\n",
              "    .dataframe thead th {\n",
              "        text-align: right;\n",
              "    }\n",
              "</style>\n",
              "<table border=\"1\" class=\"dataframe\">\n",
              "  <thead>\n",
              "    <tr style=\"text-align: right;\">\n",
              "      <th></th>\n",
              "      <th>0</th>\n",
              "      <th>1</th>\n",
              "      <th>2</th>\n",
              "    </tr>\n",
              "  </thead>\n",
              "  <tbody>\n",
              "    <tr>\n",
              "      <th>USA</th>\n",
              "      <td>88</td>\n",
              "      <td>90</td>\n",
              "      <td>7</td>\n",
              "    </tr>\n",
              "    <tr>\n",
              "      <th>CANADA</th>\n",
              "      <td>88</td>\n",
              "      <td>65</td>\n",
              "      <td>26</td>\n",
              "    </tr>\n",
              "    <tr>\n",
              "      <th>UK</th>\n",
              "      <td>81</td>\n",
              "      <td>34</td>\n",
              "      <td>5</td>\n",
              "    </tr>\n",
              "    <tr>\n",
              "      <th>CHINA</th>\n",
              "      <td>98</td>\n",
              "      <td>0</td>\n",
              "      <td>39</td>\n",
              "    </tr>\n",
              "  </tbody>\n",
              "</table>\n",
              "</div>\n",
              "      <button class=\"colab-df-convert\" onclick=\"convertToInteractive('df-433e9832-4105-4153-b047-6b6deba6ce85')\"\n",
              "              title=\"Convert this dataframe to an interactive table.\"\n",
              "              style=\"display:none;\">\n",
              "        \n",
              "  <svg xmlns=\"http://www.w3.org/2000/svg\" height=\"24px\"viewBox=\"0 0 24 24\"\n",
              "       width=\"24px\">\n",
              "    <path d=\"M0 0h24v24H0V0z\" fill=\"none\"/>\n",
              "    <path d=\"M18.56 5.44l.94 2.06.94-2.06 2.06-.94-2.06-.94-.94-2.06-.94 2.06-2.06.94zm-11 1L8.5 8.5l.94-2.06 2.06-.94-2.06-.94L8.5 2.5l-.94 2.06-2.06.94zm10 10l.94 2.06.94-2.06 2.06-.94-2.06-.94-.94-2.06-.94 2.06-2.06.94z\"/><path d=\"M17.41 7.96l-1.37-1.37c-.4-.4-.92-.59-1.43-.59-.52 0-1.04.2-1.43.59L10.3 9.45l-7.72 7.72c-.78.78-.78 2.05 0 2.83L4 21.41c.39.39.9.59 1.41.59.51 0 1.02-.2 1.41-.59l7.78-7.78 2.81-2.81c.8-.78.8-2.07 0-2.86zM5.41 20L4 18.59l7.72-7.72 1.47 1.35L5.41 20z\"/>\n",
              "  </svg>\n",
              "      </button>\n",
              "      \n",
              "  <style>\n",
              "    .colab-df-container {\n",
              "      display:flex;\n",
              "      flex-wrap:wrap;\n",
              "      gap: 12px;\n",
              "    }\n",
              "\n",
              "    .colab-df-convert {\n",
              "      background-color: #E8F0FE;\n",
              "      border: none;\n",
              "      border-radius: 50%;\n",
              "      cursor: pointer;\n",
              "      display: none;\n",
              "      fill: #1967D2;\n",
              "      height: 32px;\n",
              "      padding: 0 0 0 0;\n",
              "      width: 32px;\n",
              "    }\n",
              "\n",
              "    .colab-df-convert:hover {\n",
              "      background-color: #E2EBFA;\n",
              "      box-shadow: 0px 1px 2px rgba(60, 64, 67, 0.3), 0px 1px 3px 1px rgba(60, 64, 67, 0.15);\n",
              "      fill: #174EA6;\n",
              "    }\n",
              "\n",
              "    [theme=dark] .colab-df-convert {\n",
              "      background-color: #3B4455;\n",
              "      fill: #D2E3FC;\n",
              "    }\n",
              "\n",
              "    [theme=dark] .colab-df-convert:hover {\n",
              "      background-color: #434B5C;\n",
              "      box-shadow: 0px 1px 3px 1px rgba(0, 0, 0, 0.15);\n",
              "      filter: drop-shadow(0px 1px 2px rgba(0, 0, 0, 0.3));\n",
              "      fill: #FFFFFF;\n",
              "    }\n",
              "  </style>\n",
              "\n",
              "      <script>\n",
              "        const buttonEl =\n",
              "          document.querySelector('#df-433e9832-4105-4153-b047-6b6deba6ce85 button.colab-df-convert');\n",
              "        buttonEl.style.display =\n",
              "          google.colab.kernel.accessAllowed ? 'block' : 'none';\n",
              "\n",
              "        async function convertToInteractive(key) {\n",
              "          const element = document.querySelector('#df-433e9832-4105-4153-b047-6b6deba6ce85');\n",
              "          const dataTable =\n",
              "            await google.colab.kernel.invokeFunction('convertToInteractive',\n",
              "                                                     [key], {});\n",
              "          if (!dataTable) return;\n",
              "\n",
              "          const docLinkHtml = 'Like what you see? Visit the ' +\n",
              "            '<a target=\"_blank\" href=https://colab.research.google.com/notebooks/data_table.ipynb>data table notebook</a>'\n",
              "            + ' to learn more about interactive tables.';\n",
              "          element.innerHTML = '';\n",
              "          dataTable['output_type'] = 'display_data';\n",
              "          await google.colab.output.renderOutput(dataTable, element);\n",
              "          const docLink = document.createElement('div');\n",
              "          docLink.innerHTML = docLinkHtml;\n",
              "          element.appendChild(docLink);\n",
              "        }\n",
              "      </script>\n",
              "    </div>\n",
              "  </div>\n",
              "  "
            ]
          },
          "metadata": {},
          "execution_count": 25
        }
      ]
    },
    {
      "cell_type": "code",
      "source": [
        "# to add column names\n",
        "\n",
        "mycolumns = ['Jan', 'Feb', 'Mar']\n",
        "mydataframe = pd.DataFrame(data = mydata, index = myindex, columns = mycolumns)\n",
        "mydataframe"
      ],
      "metadata": {
        "colab": {
          "base_uri": "https://localhost:8080/",
          "height": 175
        },
        "id": "0lqkPGUnImgD",
        "outputId": "4fa6106d-967f-4678-eec8-56a771e1add4"
      },
      "execution_count": 26,
      "outputs": [
        {
          "output_type": "execute_result",
          "data": {
            "text/plain": [
              "        Jan  Feb  Mar\n",
              "USA      88   90    7\n",
              "CANADA   88   65   26\n",
              "UK       81   34    5\n",
              "CHINA    98    0   39"
            ],
            "text/html": [
              "\n",
              "  <div id=\"df-ab3cf62c-4a31-44d6-98c7-84521ab01001\">\n",
              "    <div class=\"colab-df-container\">\n",
              "      <div>\n",
              "<style scoped>\n",
              "    .dataframe tbody tr th:only-of-type {\n",
              "        vertical-align: middle;\n",
              "    }\n",
              "\n",
              "    .dataframe tbody tr th {\n",
              "        vertical-align: top;\n",
              "    }\n",
              "\n",
              "    .dataframe thead th {\n",
              "        text-align: right;\n",
              "    }\n",
              "</style>\n",
              "<table border=\"1\" class=\"dataframe\">\n",
              "  <thead>\n",
              "    <tr style=\"text-align: right;\">\n",
              "      <th></th>\n",
              "      <th>Jan</th>\n",
              "      <th>Feb</th>\n",
              "      <th>Mar</th>\n",
              "    </tr>\n",
              "  </thead>\n",
              "  <tbody>\n",
              "    <tr>\n",
              "      <th>USA</th>\n",
              "      <td>88</td>\n",
              "      <td>90</td>\n",
              "      <td>7</td>\n",
              "    </tr>\n",
              "    <tr>\n",
              "      <th>CANADA</th>\n",
              "      <td>88</td>\n",
              "      <td>65</td>\n",
              "      <td>26</td>\n",
              "    </tr>\n",
              "    <tr>\n",
              "      <th>UK</th>\n",
              "      <td>81</td>\n",
              "      <td>34</td>\n",
              "      <td>5</td>\n",
              "    </tr>\n",
              "    <tr>\n",
              "      <th>CHINA</th>\n",
              "      <td>98</td>\n",
              "      <td>0</td>\n",
              "      <td>39</td>\n",
              "    </tr>\n",
              "  </tbody>\n",
              "</table>\n",
              "</div>\n",
              "      <button class=\"colab-df-convert\" onclick=\"convertToInteractive('df-ab3cf62c-4a31-44d6-98c7-84521ab01001')\"\n",
              "              title=\"Convert this dataframe to an interactive table.\"\n",
              "              style=\"display:none;\">\n",
              "        \n",
              "  <svg xmlns=\"http://www.w3.org/2000/svg\" height=\"24px\"viewBox=\"0 0 24 24\"\n",
              "       width=\"24px\">\n",
              "    <path d=\"M0 0h24v24H0V0z\" fill=\"none\"/>\n",
              "    <path d=\"M18.56 5.44l.94 2.06.94-2.06 2.06-.94-2.06-.94-.94-2.06-.94 2.06-2.06.94zm-11 1L8.5 8.5l.94-2.06 2.06-.94-2.06-.94L8.5 2.5l-.94 2.06-2.06.94zm10 10l.94 2.06.94-2.06 2.06-.94-2.06-.94-.94-2.06-.94 2.06-2.06.94z\"/><path d=\"M17.41 7.96l-1.37-1.37c-.4-.4-.92-.59-1.43-.59-.52 0-1.04.2-1.43.59L10.3 9.45l-7.72 7.72c-.78.78-.78 2.05 0 2.83L4 21.41c.39.39.9.59 1.41.59.51 0 1.02-.2 1.41-.59l7.78-7.78 2.81-2.81c.8-.78.8-2.07 0-2.86zM5.41 20L4 18.59l7.72-7.72 1.47 1.35L5.41 20z\"/>\n",
              "  </svg>\n",
              "      </button>\n",
              "      \n",
              "  <style>\n",
              "    .colab-df-container {\n",
              "      display:flex;\n",
              "      flex-wrap:wrap;\n",
              "      gap: 12px;\n",
              "    }\n",
              "\n",
              "    .colab-df-convert {\n",
              "      background-color: #E8F0FE;\n",
              "      border: none;\n",
              "      border-radius: 50%;\n",
              "      cursor: pointer;\n",
              "      display: none;\n",
              "      fill: #1967D2;\n",
              "      height: 32px;\n",
              "      padding: 0 0 0 0;\n",
              "      width: 32px;\n",
              "    }\n",
              "\n",
              "    .colab-df-convert:hover {\n",
              "      background-color: #E2EBFA;\n",
              "      box-shadow: 0px 1px 2px rgba(60, 64, 67, 0.3), 0px 1px 3px 1px rgba(60, 64, 67, 0.15);\n",
              "      fill: #174EA6;\n",
              "    }\n",
              "\n",
              "    [theme=dark] .colab-df-convert {\n",
              "      background-color: #3B4455;\n",
              "      fill: #D2E3FC;\n",
              "    }\n",
              "\n",
              "    [theme=dark] .colab-df-convert:hover {\n",
              "      background-color: #434B5C;\n",
              "      box-shadow: 0px 1px 3px 1px rgba(0, 0, 0, 0.15);\n",
              "      filter: drop-shadow(0px 1px 2px rgba(0, 0, 0, 0.3));\n",
              "      fill: #FFFFFF;\n",
              "    }\n",
              "  </style>\n",
              "\n",
              "      <script>\n",
              "        const buttonEl =\n",
              "          document.querySelector('#df-ab3cf62c-4a31-44d6-98c7-84521ab01001 button.colab-df-convert');\n",
              "        buttonEl.style.display =\n",
              "          google.colab.kernel.accessAllowed ? 'block' : 'none';\n",
              "\n",
              "        async function convertToInteractive(key) {\n",
              "          const element = document.querySelector('#df-ab3cf62c-4a31-44d6-98c7-84521ab01001');\n",
              "          const dataTable =\n",
              "            await google.colab.kernel.invokeFunction('convertToInteractive',\n",
              "                                                     [key], {});\n",
              "          if (!dataTable) return;\n",
              "\n",
              "          const docLinkHtml = 'Like what you see? Visit the ' +\n",
              "            '<a target=\"_blank\" href=https://colab.research.google.com/notebooks/data_table.ipynb>data table notebook</a>'\n",
              "            + ' to learn more about interactive tables.';\n",
              "          element.innerHTML = '';\n",
              "          dataTable['output_type'] = 'display_data';\n",
              "          await google.colab.output.renderOutput(dataTable, element);\n",
              "          const docLink = document.createElement('div');\n",
              "          docLink.innerHTML = docLinkHtml;\n",
              "          element.appendChild(docLink);\n",
              "        }\n",
              "      </script>\n",
              "    </div>\n",
              "  </div>\n",
              "  "
            ]
          },
          "metadata": {},
          "execution_count": 26
        }
      ]
    },
    {
      "cell_type": "code",
      "source": [
        "# to get the details of the data frame\n",
        "\n",
        "mydataframe.info()\n"
      ],
      "metadata": {
        "colab": {
          "base_uri": "https://localhost:8080/"
        },
        "id": "glydddwJIxo6",
        "outputId": "32776d8c-d8b0-4a14-d306-800ad42211b9"
      },
      "execution_count": 27,
      "outputs": [
        {
          "output_type": "stream",
          "name": "stdout",
          "text": [
            "<class 'pandas.core.frame.DataFrame'>\n",
            "Index: 4 entries, USA to CHINA\n",
            "Data columns (total 3 columns):\n",
            " #   Column  Non-Null Count  Dtype\n",
            "---  ------  --------------  -----\n",
            " 0   Jan     4 non-null      int64\n",
            " 1   Feb     4 non-null      int64\n",
            " 2   Mar     4 non-null      int64\n",
            "dtypes: int64(3)\n",
            "memory usage: 300.0+ bytes\n"
          ]
        }
      ]
    }
  ]
}